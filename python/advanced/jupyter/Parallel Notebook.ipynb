{
 "cells": [
  {
   "cell_type": "code",
   "execution_count": 11,
   "metadata": {},
   "outputs": [
    {
     "name": "stdout",
     "output_type": "stream",
     "text": [
      "got unknown result: b5d2bfc9-bbfe25668d2a59d708c329d6\n",
      "got unknown result: a33b6adb-76eee1e01c248e05f6164659\n"
     ]
    }
   ],
   "source": [
    "import os\n",
    "import ipyparallel as ipp\n",
    "\n",
    "rc = ipp.Client()\n",
    "ar = rc[:].apply_async(os.getpid)\n",
    "pid_map = ar.get_dict()"
   ]
  },
  {
   "cell_type": "code",
   "execution_count": 12,
   "metadata": {},
   "outputs": [
    {
     "name": "stdout",
     "output_type": "stream",
     "text": [
      "{0: 184728, 1: 184726, 2: 184729, 3: 184727}\n"
     ]
    }
   ],
   "source": [
    "print pid_map"
   ]
  },
  {
   "cell_type": "code",
   "execution_count": 100,
   "metadata": {},
   "outputs": [],
   "source": [
    "%matplotlib inline\n",
    "\n",
    "import matplotlib\n",
    "import numpy as np\n",
    "import matplotlib.pyplot as plt\n",
    "\n",
    "from IPython.display import display, clear_output, update_display"
   ]
  },
  {
   "cell_type": "code",
   "execution_count": 89,
   "metadata": {},
   "outputs": [
    {
     "name": "stdout",
     "output_type": "stream",
     "text": [
      "Requirement already satisfied: filelock in ./env/lib/python2.7/site-packages (3.0.4)\n"
     ]
    }
   ],
   "source": [
    "%%bash\n",
    "pip install filelock"
   ]
  },
  {
   "cell_type": "code",
   "execution_count": 90,
   "metadata": {},
   "outputs": [],
   "source": [
    "%mkdir -p data"
   ]
  },
  {
   "cell_type": "code",
   "execution_count": 91,
   "metadata": {},
   "outputs": [],
   "source": [
    "%%bash\n",
    "cat > pi_calc.py << EOF\n",
    "\"\"\"\n",
    "Calculation of Pi using a Monte Carlo method.\n",
    "\"\"\"\n",
    "\n",
    "from math import hypot\n",
    "from random import random\n",
    "from time import time\n",
    "import sys\n",
    "import filelock\n",
    "\n",
    "# A range is used in this function for python3. If you are using python2, a\n",
    "# xrange might be more efficient.\n",
    "def test(tries):\n",
    "    return sum(hypot(random(), random()) < 1 for _ in range(tries))\n",
    "\n",
    "\n",
    "# Calculates pi with a Monte-Carlo method. This function calls the function\n",
    "# test \"n\" times with an argument of \"t\".\n",
    "def calcPi(n, t):\n",
    "    bt = time()\n",
    "    expr = map(test, [t] * n)\n",
    "    piValue = 4. * sum(expr) / float(n * t)\n",
    "    totalTime = time() - bt\n",
    "    print(\"pi = \" + str(piValue))\n",
    "    print(\"total time: \" + str(totalTime))\n",
    "    return (piValue, totalTime)\n",
    "\n",
    "if __name__ == \"__main__\":\n",
    "    dataPi, totalTime = calcPi(3000, 50000)\n",
    "    with filelock.FileLock(\"calcPi.lock\") as lock:\n",
    "        with open(\"data/time_per_core.dat\", \"a\") as f:\n",
    "            # 1 core per run, totaltime\n",
    "            f.write(\"%d %f\\n\" % (1, totalTime))\n",
    "EOF"
   ]
  },
  {
   "cell_type": "code",
   "execution_count": 92,
   "metadata": {},
   "outputs": [
    {
     "name": "stdout",
     "output_type": "stream",
     "text": [
      "\"\"\"\r\n",
      "Calculation of Pi using a Monte Carlo method.\r\n",
      "\"\"\"\r\n",
      "\r\n",
      "from math import hypot\r\n",
      "from random import random\r\n",
      "from time import time\r\n",
      "import sys\r\n",
      "import filelock\r\n",
      "\r\n",
      "# A range is used in this function for python3. If you are using python2, a\r\n",
      "# xrange might be more efficient.\r\n",
      "def test(tries):\r\n",
      "    return sum(hypot(random(), random()) < 1 for _ in range(tries))\r\n",
      "\r\n",
      "\r\n",
      "# Calculates pi with a Monte-Carlo method. This function calls the function\r\n",
      "# test \"n\" times with an argument of \"t\".\r\n",
      "def calcPi(n, t):\r\n",
      "    bt = time()\r\n",
      "    expr = map(test, [t] * n)\r\n",
      "    piValue = 4. * sum(expr) / float(n * t)\r\n",
      "    totalTime = time() - bt\r\n",
      "    print(\"pi = \" + str(piValue))\r\n",
      "    print(\"total time: \" + str(totalTime))\r\n",
      "    return (piValue, totalTime)\r\n",
      "\r\n",
      "if __name__ == \"__main__\":\r\n",
      "    dataPi, totalTime = calcPi(3000, 50000)\r\n",
      "    with filelock.FileLock(\"calcPi.lock\") as lock:\r\n",
      "        with open(\"data/time_per_core.dat\", \"a\") as f:\r\n",
      "            # 1 core per run, totaltime\r\n",
      "            f.write(\"%d %f\\n\" % (1, totalTime))\r\n"
     ]
    }
   ],
   "source": [
    "%cat pi_calc.py"
   ]
  },
  {
   "cell_type": "code",
   "execution_count": 25,
   "metadata": {},
   "outputs": [],
   "source": [
    "%rm -f data/*.dat"
   ]
  },
  {
   "cell_type": "code",
   "execution_count": 93,
   "metadata": {},
   "outputs": [
    {
     "data": {
      "text/plain": [
       "<DirectView [0, 1, 2, 3]>"
      ]
     },
     "execution_count": 93,
     "metadata": {},
     "output_type": "execute_result"
    }
   ],
   "source": [
    "rc[:]"
   ]
  },
  {
   "cell_type": "code",
   "execution_count": 94,
   "metadata": {},
   "outputs": [],
   "source": [
    "v = rc[:]"
   ]
  },
  {
   "cell_type": "code",
   "execution_count": 108,
   "metadata": {},
   "outputs": [
    {
     "data": {
      "image/png": "[encoded data removed]",
      "text/plain": [
       "<Figure size 432x288 with 1 Axes>"
      ]
     },
     "metadata": {},
     "output_type": "display_data"
    }
   ],
   "source": [
    "def get_data():\n",
    "    with open(\"data/time_per_core.dat\") as f:\n",
    "        data = f.read()\n",
    "    dataset = [(d.split()) for d in data.splitlines()]\n",
    "    return dataset\n",
    "\n",
    "    \n",
    "fig, ax = plt.subplots()\n",
    "def show_plot(dataset):\n",
    "    clear_output(wait = True)\n",
    "    x = [float(d[1]) for d in dataset]\n",
    "    all_data = [x]\n",
    "    labels = ['1 core',]\n",
    "\n",
    "    # rectangular box plot\n",
    "    bplot1 = ax.boxplot(all_data,\n",
    "                        vert=True,  # vertical box alignment\n",
    "                        patch_artist=True,  # fill with color\n",
    "                        labels=labels)  # will be used to label x-ticks\n",
    "    ax.yaxis.grid(True)\n",
    "    ax.set_title('Pi computation (results for %d tries)'% len(x))\n",
    "    ax.set_xlabel('Core used to compute')\n",
    "    ax.set_ylabel('Compute time (s)')\n",
    "    display(fig)"
   ]
  },
  {
   "cell_type": "code",
   "execution_count": 109,
   "metadata": {},
   "outputs": [
    {
     "data": {
      "image/png": "[encoded data removed]",
      "text/plain": [
       "<Figure size 432x288 with 1 Axes>"
      ]
     },
     "metadata": {},
     "output_type": "display_data"
    },
    {
     "name": "stdout",
     "output_type": "stream",
     "text": [
      "[stdout:0] \n",
      "pi = 3.14161938667\n",
      "total time: 33.8917269707\n",
      "[stdout:1] \n",
      "pi = 3.14150605333\n",
      "total time: 34.4050741196\n",
      "[stdout:2] \n",
      "pi = 3.14163144\n",
      "total time: 34.2964138985\n",
      "[stdout:3] \n",
      "pi = 3.14140533333\n",
      "total time: 33.7559151649\n"
     ]
    }
   ],
   "source": [
    "for i in range(25):\n",
    "    ar = v.run('pi_calc.py')\n",
    "    ar.wait_for_output()\n",
    "    dataset = get_data()\n",
    "    show_plot(dataset)\n",
    "    ar.display_outputs()"
   ]
  },
  {
   "cell_type": "code",
   "execution_count": null,
   "metadata": {},
   "outputs": [],
   "source": [
    "%cat data/time_per_core.dat"
   ]
  }
 ],
 "metadata": {
  "celltoolbar": "Slideshow",
  "kernelspec": {
   "display_name": "env",
   "language": "python",
   "name": "env"
  },
  "language_info": {
   "codemirror_mode": {
    "name": "ipython",
    "version": 2
   },
   "file_extension": ".py",
   "mimetype": "text/x-python",
   "name": "python",
   "nbconvert_exporter": "python",
   "pygments_lexer": "ipython2",
   "version": "2.7.5"
  }
 },
 "nbformat": 4,
 "nbformat_minor": 2
}
